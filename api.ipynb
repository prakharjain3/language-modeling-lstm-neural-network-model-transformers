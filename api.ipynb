{
 "cells": [
  {
   "cell_type": "code",
   "execution_count": 12,
   "metadata": {},
   "outputs": [
    {
     "name": "stdout",
     "output_type": "stream",
     "text": [
      "{'userId': 1, 'id': 1, 'title': 'delectus aut autem', 'completed': False}\n"
     ]
    }
   ],
   "source": [
    "import requests\n",
    "\n",
    "api_url = \"https://jsonplaceholder.typicode.com/todos/1\"\n",
    "response = requests.get(api_url)\n",
    "\n",
    "print(response.json())\n"
   ]
  },
  {
   "cell_type": "markdown",
   "metadata": {},
   "source": [
    "# GET"
   ]
  },
  {
   "cell_type": "code",
   "execution_count": 13,
   "metadata": {},
   "outputs": [
    {
     "name": "stdout",
     "output_type": "stream",
     "text": [
      "200\n",
      "{'Date': 'Fri, 06 Sep 2024 08:22:39 GMT', 'Content-Type': 'application/json; charset=utf-8', 'Transfer-Encoding': 'chunked', 'Connection': 'keep-alive', 'Report-To': '{\"group\":\"heroku-nel\",\"max_age\":3600,\"endpoints\":[{\"url\":\"https://nel.heroku.com/reports?ts=1719070024&sid=e11707d5-02a7-43ef-b45e-2cf4d2036f7d&s=heAPL1zbp9tzrpVVES%2BaimLZ2ivRk77jVfYRPumLN50%3D\"}]}', 'Reporting-Endpoints': 'heroku-nel=https://nel.heroku.com/reports?ts=1719070024&sid=e11707d5-02a7-43ef-b45e-2cf4d2036f7d&s=heAPL1zbp9tzrpVVES%2BaimLZ2ivRk77jVfYRPumLN50%3D', 'Nel': '{\"report_to\":\"heroku-nel\",\"max_age\":3600,\"success_fraction\":0.005,\"failure_fraction\":0.05,\"response_headers\":[\"Via\"]}', 'X-Powered-By': 'Express', 'X-Ratelimit-Limit': '1000', 'X-Ratelimit-Remaining': '999', 'X-Ratelimit-Reset': '1719070063', 'Vary': 'Origin, Accept-Encoding', 'Access-Control-Allow-Credentials': 'true', 'Cache-Control': 'max-age=43200', 'Pragma': 'no-cache', 'Expires': '-1', 'X-Content-Type-Options': 'nosniff', 'Etag': 'W/\"53-hfEnumeNh6YirfjyjaujcOPPT+s\"', 'Via': '1.1 vegur', 'CF-Cache-Status': 'HIT', 'Age': '26384', 'Server': 'cloudflare', 'CF-RAY': '8bed0d734db34a35-SIN', 'Content-Encoding': 'br', 'alt-svc': 'h3=\":443\"; ma=86400'}\n"
     ]
    }
   ],
   "source": [
    "print(response.status_code)\n",
    "print(response.headers)"
   ]
  },
  {
   "cell_type": "markdown",
   "metadata": {},
   "source": [
    "# POST"
   ]
  },
  {
   "cell_type": "code",
   "execution_count": 25,
   "metadata": {},
   "outputs": [
    {
     "name": "stdout",
     "output_type": "stream",
     "text": [
      "{'userId': 1, 'title': 'Buy Milk', 'completed': False, 'id': 201}\n",
      "201\n",
      "{'Date': 'Fri, 06 Sep 2024 08:24:13 GMT', 'Content-Type': 'application/json; charset=utf-8', 'Content-Length': '75', 'Connection': 'keep-alive', 'Report-To': '{\"group\":\"heroku-nel\",\"max_age\":3600,\"endpoints\":[{\"url\":\"https://nel.heroku.com/reports?ts=1725611053&sid=e11707d5-02a7-43ef-b45e-2cf4d2036f7d&s=eeJtUSTA%2BbZNE%2FwWE8FqRjmfC2G732N0gWYucr5iv6w%3D\"}]}', 'Reporting-Endpoints': 'heroku-nel=https://nel.heroku.com/reports?ts=1725611053&sid=e11707d5-02a7-43ef-b45e-2cf4d2036f7d&s=eeJtUSTA%2BbZNE%2FwWE8FqRjmfC2G732N0gWYucr5iv6w%3D', 'Nel': '{\"report_to\":\"heroku-nel\",\"max_age\":3600,\"success_fraction\":0.005,\"failure_fraction\":0.05,\"response_headers\":[\"Via\"]}', 'X-Powered-By': 'Express', 'X-Ratelimit-Limit': '1000', 'X-Ratelimit-Remaining': '999', 'X-Ratelimit-Reset': '1725611112', 'Vary': 'Origin, X-HTTP-Method-Override, Accept-Encoding', 'Access-Control-Allow-Credentials': 'true', 'Cache-Control': 'no-cache', 'Pragma': 'no-cache', 'Expires': '-1', 'Access-Control-Expose-Headers': 'Location', 'Location': 'https://jsonplaceholder.typicode.com/todos/201', 'X-Content-Type-Options': 'nosniff', 'Etag': 'W/\"4b-zQLuTcSeCXS0Rj2MJb+DR0GQeBY\"', 'Via': '1.1 vegur', 'CF-Cache-Status': 'DYNAMIC', 'Server': 'cloudflare', 'CF-RAY': '8bed0fb8bd323df9-SIN', 'alt-svc': 'h3=\":443\"; ma=86400'}\n"
     ]
    }
   ],
   "source": [
    "api_url = \"https://jsonplaceholder.typicode.com/todos\"\n",
    "\n",
    "todo = {\"userId\" : 1, \"title\" : \"Buy Milk\", \"completed\" : False}\n",
    "\n",
    "\n",
    "response = requests.post(api_url, json=todo)\n",
    "print(response.json())\n",
    "print(response.status_code)\n",
    "print(response.headers)\n"
   ]
  },
  {
   "cell_type": "code",
   "execution_count": 30,
   "metadata": {},
   "outputs": [
    {
     "name": "stdout",
     "output_type": "stream",
     "text": [
      "{'userId': 1, 'title': 'Buy Milk', 'completed': False, 'id': 201}\n",
      "201\n"
     ]
    }
   ],
   "source": [
    "import requests\n",
    "import json\n",
    "# import aiohttp\n",
    "\n",
    "api_url = \"https://jsonplaceholder.typicode.com/todos\"\n",
    "\n",
    "todo = {\"userId\" : 1, \"title\" : \"Buy Milk\", \"completed\" : False}\n",
    "\n",
    "headers = {\"Content-type\": \"application/json\"}\n",
    "\n",
    "response  = requests.post(api_url, data = json.dumps(todo), headers=headers)\n",
    "\n",
    "print(response.json())\n",
    "\n",
    "print(response.status_code)"
   ]
  },
  {
   "cell_type": "markdown",
   "metadata": {},
   "source": [
    "# PUT"
   ]
  },
  {
   "cell_type": "code",
   "execution_count": 31,
   "metadata": {},
   "outputs": [
    {
     "name": "stdout",
     "output_type": "stream",
     "text": [
      "{'userId': 1, 'id': 10, 'title': 'illo est ratione doloremque quia maiores aut', 'completed': True}\n",
      "{'userId': 1, 'title': 'Wash Car', 'completed': True, 'id': 10}\n"
     ]
    }
   ],
   "source": [
    "import requests\n",
    "\n",
    "api_url = \"https://jsonplaceholder.typicode.com/todos/10\"\n",
    "\n",
    "response = requests.get(api_url)\n",
    "print(response.json())\n",
    "\n",
    "todo = {\"userId\" : 1, \"title\" : \"Wash Car\", \"completed\" : True}\n",
    "\n",
    "response = requests.put(api_url, json=todo)\n",
    "\n",
    "print(response.json())"
   ]
  },
  {
   "cell_type": "markdown",
   "metadata": {},
   "source": [
    "# PATCH"
   ]
  },
  {
   "cell_type": "code",
   "execution_count": 32,
   "metadata": {},
   "outputs": [
    {
     "name": "stdout",
     "output_type": "stream",
     "text": [
      "{'userId': 1, 'id': 10, 'title': 'Mow Lawn', 'completed': True}\n"
     ]
    }
   ],
   "source": [
    "api_url = \"https://jsonplaceholder.typicode.com/todos/10\"\n",
    "\n",
    "todo = {\"title\" : \"Mow Lawn\"}\n",
    "\n",
    "response = requests.patch(api_url, json= todo)\n",
    "print(response.json())"
   ]
  },
  {
   "cell_type": "markdown",
   "metadata": {},
   "source": [
    "# DELETE"
   ]
  },
  {
   "cell_type": "code",
   "execution_count": 34,
   "metadata": {},
   "outputs": [
    {
     "name": "stdout",
     "output_type": "stream",
     "text": [
      "{}\n",
      "200\n"
     ]
    }
   ],
   "source": [
    "api_url = \"https://jsonplaceholder.typicode.com/todos/10\"\n",
    "response = requests.delete(api_url)\n",
    "print(response.json())\n",
    "print(response.status_code)"
   ]
  }
 ],
 "metadata": {
  "kernelspec": {
   "display_name": "base",
   "language": "python",
   "name": "python3"
  },
  "language_info": {
   "codemirror_mode": {
    "name": "ipython",
    "version": 3
   },
   "file_extension": ".py",
   "mimetype": "text/x-python",
   "name": "python",
   "nbconvert_exporter": "python",
   "pygments_lexer": "ipython3",
   "version": "3.12.2"
  }
 },
 "nbformat": 4,
 "nbformat_minor": 2
}
