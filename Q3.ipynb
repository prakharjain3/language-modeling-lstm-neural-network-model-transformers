{
 "cells": [
  {
   "cell_type": "markdown",
   "metadata": {},
   "source": [
    "# Prakhar Jain\n",
    "# 2022121008"
   ]
  },
  {
   "cell_type": "markdown",
   "metadata": {},
   "source": [
    "Trained Models : https://drive.google.com/drive/folders/1E1pYtju_sBlSnodKjQa1b_uAq80xNbYN?usp=sharing"
   ]
  },
  {
   "cell_type": "code",
   "execution_count": 1,
   "metadata": {},
   "outputs": [],
   "source": [
    "import unicodedata\n",
    "import re\n",
    "import numpy as np\n",
    "from nltk.tokenize import word_tokenize, sent_tokenize\n",
    "from gensim.models import KeyedVectors\n",
    "import nltk\n",
    "from tqdm.auto import tqdm\n",
    "import random\n",
    "import torch\n",
    "import torch.nn as nn\n",
    "import torch.optim as optim\n",
    "from torch.utils.data import DataLoader, Dataset\n",
    "from torch.nn.utils.rnn import pad_sequence\n",
    "\n",
    "device = torch.device(\"cuda\" if torch.cuda.is_available() else \"cpu\")\n",
    "\n",
    "# Download necessary NLTK data files\n",
    "# nltk.download('punkt')"
   ]
  },
  {
   "cell_type": "code",
   "execution_count": 2,
   "metadata": {},
   "outputs": [],
   "source": [
    "\n",
    "class TextProcessor:\n",
    "    def __init__(self, file_path) -> None:\n",
    "        self.file_path = file_path\n",
    "\n",
    "    def clean_text(self, text):\n",
    "        text = unicodedata.normalize(\"NFD\", text)\n",
    "        text = text.lower()\n",
    "        text = re.sub(r\"[^0-9a-zA-Z?.,!:;]+\", r\" \", text)\n",
    "        text = re.sub(r\"(.)\\1{3,}\", r\"\\1\", text)\n",
    "        text = text.strip()\n",
    "        return text\n",
    "\n",
    "    def preprocess_text(self):\n",
    "        with open(self.file_path, 'r') as f:\n",
    "            corpus = f.read()\n",
    "        sentences = sent_tokenize(corpus)\n",
    "        sentences = [self.clean_text(sent) for sent in sentences if not sent.lower(\n",
    "        ).startswith('chapter') and not sent[0].isdigit()]\n",
    "        return sentences\n",
    "\n",
    "    def get_max_len(self, sentences):\n",
    "        return max([len(word_tokenize(sent)) for sent in sentences])\n",
    "\n",
    "    def generate_sentences(self, sentences):\n",
    "        padded_sentences = []\n",
    "        for sentence in sentences:\n",
    "            tokens = word_tokenize(sentence)\n",
    "            padded_sentence = ['<S>'] + tokens + ['</S>']\n",
    "            padded_sentence = ' '.join(padded_sentence)\n",
    "            padded_sentences.append(padded_sentence)\n",
    "        return padded_sentences\n",
    "\n",
    "\n",
    "class Vocabulary:\n",
    "    def __init__(self, glove_path):\n",
    "        self.glove_model = KeyedVectors.load_word2vec_format(\n",
    "            glove_path, binary=False, no_header=True)\n",
    "        self.word2idx = {}\n",
    "        self.idx2word = []\n",
    "        self.special_tokens = ['<PAD>', '<UNK>', '<S>', '</S>']\n",
    "        self._add_special_tokens()\n",
    "\n",
    "    def _add_special_tokens(self):\n",
    "        for token in self.special_tokens:\n",
    "            self.add_word(token)\n",
    "\n",
    "    def add_word(self, word):\n",
    "        if word not in self.word2idx:\n",
    "            self.word2idx[word] = len(self.word2idx)\n",
    "            self.idx2word.append(word)\n",
    "\n",
    "    def build_vocab(self, sentences):\n",
    "        for sentence in sentences:\n",
    "            tokens = word_tokenize(sentence)\n",
    "            for token in tokens:\n",
    "                self.add_word(token)\n",
    "\n",
    "    def get_glove_embeddings(self):\n",
    "        embedding_dim = self.glove_model.vector_size\n",
    "        embeddings = np.zeros((len(self.idx2word), embedding_dim))\n",
    "        for idx, word in enumerate(self.idx2word):\n",
    "            if word in self.glove_model:\n",
    "                embeddings[idx] = self.glove_model[word]\n",
    "            else:\n",
    "                embeddings[idx] = np.random.normal(\n",
    "                    scale=0.6, size=(embedding_dim,))\n",
    "        return torch.tensor(embeddings, dtype=torch.float32)\n",
    "\n",
    "    def index2word(self, idx):\n",
    "        return self.idx2word[idx]\n",
    "\n",
    "    def word2index(self, word):\n",
    "        return self.word2idx.get(word, self.word2idx['<UNK>'])\n",
    "\n",
    "    def __len__(self):\n",
    "        return len(self.word2idx)\n",
    "\n",
    "\n",
    "class TextDatasetTransformer(Dataset):\n",
    "    def __init__(self, sentences, vocab, max_len):\n",
    "        self.sentences = sentences\n",
    "        self.vocab = vocab\n",
    "        self.max_len = max_len\n",
    "\n",
    "    def __len__(self):\n",
    "        return len(self.sentences)\n",
    "\n",
    "    def __getitem__(self, idx):\n",
    "        sentence = self.sentences[idx].split()\n",
    "        if len(sentence) > self.max_len:\n",
    "            sentence = sentence[:self.max_len]\n",
    "        input_idxs = [self.vocab.word2index(word) for word in sentence[:-1]]\n",
    "        target_idxs = [self.vocab.word2index(word) for word in sentence[1:]]\n",
    "\n",
    "        return torch.tensor(input_idxs, dtype=torch.long), torch.tensor(target_idxs, dtype=torch.long)\n",
    "\n",
    "\n",
    "def collate_fn(batch, padding_value):\n",
    "    batch.sort(key=lambda x: len(x[0]), reverse=True)\n",
    "\n",
    "    inputs, targets = zip(*batch)\n",
    "\n",
    "    padded_inputs = pad_sequence(\n",
    "        inputs, batch_first=True, padding_value=padding_value)\n",
    "    padded_targets = pad_sequence(\n",
    "        targets, batch_first=True, padding_value=padding_value)\n",
    "\n",
    "    return padded_inputs, padded_targets"
   ]
  },
  {
   "cell_type": "code",
   "execution_count": 3,
   "metadata": {},
   "outputs": [],
   "source": [
    "file_path = \"Auguste_Maquet.txt\"\n",
    "glove_path = \"glove.6B.300d.txt\"\n",
    "\n",
    "text_processor = TextProcessor(file_path)\n",
    "sentences = text_processor.preprocess_text()\n",
    "\n",
    "max_len = text_processor.get_max_len(sentences)\n",
    "\n",
    "random.seed(42)\n",
    "random.shuffle(sentences)\n",
    "\n",
    "val_len = int(len(sentences) * 0.1)\n",
    "test_len = int(len(sentences) * 0.2)\n",
    "\n",
    "train_sentences = sentences[val_len + test_len:]\n",
    "val_sentences = sentences[:val_len]\n",
    "test_sentences = sentences[val_len:val_len + test_len]\n",
    "\n",
    "vocabulary = Vocabulary(glove_path)\n",
    "vocabulary.build_vocab(train_sentences)\n",
    "embeddings = vocabulary.get_glove_embeddings()\n",
    "\n",
    "train_sentences = text_processor.generate_sentences(train_sentences)\n",
    "val_sentences = text_processor.generate_sentences(val_sentences)\n",
    "test_sentences = text_processor.generate_sentences(test_sentences)\n",
    "\n",
    "train_dataset = TextDatasetTransformer(train_sentences, vocabulary, max_len)\n",
    "val_dataset = TextDatasetTransformer(val_sentences, vocabulary, max_len)\n",
    "test_dataset = TextDatasetTransformer(test_sentences, vocabulary, max_len)"
   ]
  },
  {
   "cell_type": "code",
   "execution_count": 4,
   "metadata": {},
   "outputs": [],
   "source": [
    "\n",
    "padding_value = vocabulary.word2index('<PAD>')\n",
    "\n",
    "batch_size = 16\n",
    "\n",
    "train_loader = DataLoader(train_dataset, batch_size=batch_size, shuffle=True,\n",
    "                          collate_fn=lambda batch: collate_fn(batch, padding_value))\n",
    "val_loader = DataLoader(val_dataset, batch_size=batch_size, shuffle=False,\n",
    "                        collate_fn=lambda batch: collate_fn(batch, padding_value))\n",
    "test_loader = DataLoader(test_dataset, batch_size=batch_size, shuffle=False,\n",
    "                         collate_fn=lambda batch: collate_fn(batch, padding_value))"
   ]
  },
  {
   "cell_type": "code",
   "execution_count": 5,
   "metadata": {},
   "outputs": [],
   "source": [
    "class TransformerDecoder(nn.Module):\n",
    "    def __init__(self, vocab_size, embedding_dim, hidden_dim, num_layers, num_heads, dropout, max_len):\n",
    "        super(TransformerDecoder, self).__init__()\n",
    "        self.embedding = nn.Embedding.from_pretrained(embeddings, freeze=True)\n",
    "        self.pos_embedding = nn.Embedding(max_len, embedding_dim)\n",
    "        self.decoder = nn.TransformerDecoder(\n",
    "            nn.TransformerDecoderLayer(\n",
    "                d_model=embedding_dim, nhead=num_heads, dim_feedforward=hidden_dim, dropout=dropout, batch_first=True),\n",
    "            num_layers=num_layers\n",
    "        )\n",
    "        self.fc = nn.Linear(embedding_dim, vocab_size)\n",
    "\n",
    "    # def generate_square_subsequent_masks(self, sz):\n",
    "    #     return nn.Transformer.generate_square_subsequent_mask(sz)\n",
    "\n",
    "    def forward(self, inputs):\n",
    "        tgt_mask = nn.Transformer.generate_square_subsequent_mask(inputs.size(1)).to(inputs.device)\n",
    "        input_embedded = self.embedding(inputs) + self.pos_embedding(torch.arange(inputs.size(1)).unsqueeze(0).to(inputs.device))\n",
    "        output = self.decoder(input_embedded, memory = input_embedded , tgt_mask=tgt_mask, memory_mask=tgt_mask)\n",
    "        output = self.fc(output)\n",
    "        return output"
   ]
  },
  {
   "cell_type": "code",
   "execution_count": 6,
   "metadata": {},
   "outputs": [],
   "source": [
    "vocab_size = embeddings.shape[0]\n",
    "embedding_dim = embeddings.shape[1]\n",
    "hidden_dim = 512\n",
    "num_layers = 6\n",
    "num_heads = 6\n",
    "dropout = 0.1\n",
    "max_seq_len = max_len\n",
    "padding_value = vocabulary.word2index('<PAD>')"
   ]
  },
  {
   "cell_type": "code",
   "execution_count": 7,
   "metadata": {},
   "outputs": [],
   "source": [
    "model = TransformerDecoder(vocab_size, embedding_dim, hidden_dim,\n",
    "                           num_layers, num_heads, dropout, max_seq_len).to(device)\n",
    "optimizer = optim.Adam(model.parameters(), lr=0.0001, weight_decay=1e-5)\n",
    "criterion = nn.CrossEntropyLoss(ignore_index=padding_value, reduction='sum')"
   ]
  },
  {
   "cell_type": "code",
   "execution_count": 8,
   "metadata": {},
   "outputs": [],
   "source": [
    "# def generate_square_subsequent_mask(sz):\n",
    "#     \"\"\"\n",
    "#     Generate a square mask for the sequence. The masked positions are filled with float('-inf').\n",
    "#     Unmasked positions are filled with float(0.0).\n",
    "#     \"\"\"\n",
    "#     mask = (torch.triu(torch.ones(sz, sz)) == 1).transpose(0, 1)\n",
    "#     mask = mask.float().masked_fill(mask == 0, float('-inf')).masked_fill(mask == 1, float(0.0))\n",
    "#     return mask"
   ]
  },
  {
   "cell_type": "code",
   "execution_count": 9,
   "metadata": {},
   "outputs": [],
   "source": [
    "def calculate_perplexity(loss):\n",
    "    return torch.exp(torch.tensor(loss))\n",
    "\n",
    "def train_one_epoch(model, dataloader, criterion, optimizer, device):\n",
    "    model.train()\n",
    "    total_loss = 0\n",
    "    total_tokens = 0\n",
    "    for inputs, targets in tqdm(dataloader, desc='Training...'):\n",
    "        inputs, targets = inputs.to(device), targets.to(device)\n",
    "        optimizer.zero_grad()\n",
    "        output = model(inputs)\n",
    "        loss = criterion(output.view(-1, vocab_size), targets.view(-1))\n",
    "        loss.backward()\n",
    "        optimizer.step()\n",
    "        total_loss += loss.item()\n",
    "        total_tokens += (targets != padding_value).sum().item()\n",
    "    avg_loss = total_loss / total_tokens\n",
    "\n",
    "    perplexity = calculate_perplexity(avg_loss)\n",
    "    return avg_loss, perplexity\n",
    "\n",
    "def evaluate(model, dataloader, criterion, device):\n",
    "    model.eval()\n",
    "    total_loss = 0\n",
    "    total_tokens = 0\n",
    "    with torch.inference_mode():\n",
    "        for inputs, targets in tqdm(dataloader, desc='Evaluating...'):\n",
    "            inputs, targets = inputs.to(device), targets.to(device)\n",
    "            output = model(inputs)\n",
    "            loss = criterion(output.view(-1, vocab_size), targets.view(-1))\n",
    "            total_loss += loss.item()\n",
    "            total_tokens += (targets != padding_value).sum().item()\n",
    "    # avg_loss = total_loss / len(dataloader.dataset)\n",
    "    avg_loss = total_loss / total_tokens\n",
    "    perplexity = calculate_perplexity(avg_loss)\n",
    "    return avg_loss, perplexity\n",
    "\n",
    "def test(model, dataloader, criterion, device):\n",
    "    model.eval()\n",
    "    total_loss = 0\n",
    "    total_tokens = 0\n",
    "    with torch.inference_mode():\n",
    "        for inputs, targets in tqdm(dataloader, desc='Testing...'):\n",
    "            inputs, targets = inputs.to(device), targets.to(device)\n",
    "            output = model(inputs)\n",
    "            loss = criterion(output.view(-1, vocab_size), targets.view(-1))\n",
    "            total_loss += loss.item()\n",
    "            total_tokens += (targets != padding_value).sum().item()\n",
    "    avg_loss = total_loss / total_tokens\n",
    "    perplexity = calculate_perplexity(avg_loss)\n",
    "    return avg_loss, perplexity"
   ]
  },
  {
   "cell_type": "code",
   "execution_count": 10,
   "metadata": {},
   "outputs": [
    {
     "data": {
      "application/vnd.jupyter.widget-view+json": {
       "model_id": "78d7eef6309c49899807df50cce9e5db",
       "version_major": 2,
       "version_minor": 0
      },
      "text/plain": [
       "Training...:   0%|          | 0/1525 [00:00<?, ?it/s]"
      ]
     },
     "metadata": {},
     "output_type": "display_data"
    },
    {
     "data": {
      "application/vnd.jupyter.widget-view+json": {
       "model_id": "1426a720f43547bb8aef30982764b1a4",
       "version_major": 2,
       "version_minor": 0
      },
      "text/plain": [
       "Evaluating...:   0%|          | 0/218 [00:00<?, ?it/s]"
      ]
     },
     "metadata": {},
     "output_type": "display_data"
    },
    {
     "name": "stdout",
     "output_type": "stream",
     "text": [
      "Epoch 1/10 => Train Loss: 5.8708, Train Perplexity: 354.5371, Val Loss: 5.3070, Val Perplexity: 201.7434\n"
     ]
    },
    {
     "data": {
      "application/vnd.jupyter.widget-view+json": {
       "model_id": "0df00113ab014dc4beadaa0d2d7fbd6f",
       "version_major": 2,
       "version_minor": 0
      },
      "text/plain": [
       "Training...:   0%|          | 0/1525 [00:00<?, ?it/s]"
      ]
     },
     "metadata": {},
     "output_type": "display_data"
    },
    {
     "data": {
      "application/vnd.jupyter.widget-view+json": {
       "model_id": "fa0cd602368b44c290b92f35a69fdba2",
       "version_major": 2,
       "version_minor": 0
      },
      "text/plain": [
       "Evaluating...:   0%|          | 0/218 [00:00<?, ?it/s]"
      ]
     },
     "metadata": {},
     "output_type": "display_data"
    },
    {
     "name": "stdout",
     "output_type": "stream",
     "text": [
      "Epoch 2/10 => Train Loss: 5.1467, Train Perplexity: 171.8557, Val Loss: 5.0238, Val Perplexity: 151.9914\n"
     ]
    },
    {
     "data": {
      "application/vnd.jupyter.widget-view+json": {
       "model_id": "cd7e81bdedfd4d51a4f1d42ef514a84e",
       "version_major": 2,
       "version_minor": 0
      },
      "text/plain": [
       "Training...:   0%|          | 0/1525 [00:00<?, ?it/s]"
      ]
     },
     "metadata": {},
     "output_type": "display_data"
    },
    {
     "data": {
      "application/vnd.jupyter.widget-view+json": {
       "model_id": "76d0b703e0754a99a1cb6e209e0064da",
       "version_major": 2,
       "version_minor": 0
      },
      "text/plain": [
       "Evaluating...:   0%|          | 0/218 [00:00<?, ?it/s]"
      ]
     },
     "metadata": {},
     "output_type": "display_data"
    },
    {
     "name": "stdout",
     "output_type": "stream",
     "text": [
      "Epoch 3/10 => Train Loss: 4.9099, Train Perplexity: 135.6312, Val Loss: 4.8760, Val Perplexity: 131.1107\n"
     ]
    },
    {
     "data": {
      "application/vnd.jupyter.widget-view+json": {
       "model_id": "77dae1c1bab14d6a9bd03e63c36e76e6",
       "version_major": 2,
       "version_minor": 0
      },
      "text/plain": [
       "Training...:   0%|          | 0/1525 [00:00<?, ?it/s]"
      ]
     },
     "metadata": {},
     "output_type": "display_data"
    },
    {
     "data": {
      "application/vnd.jupyter.widget-view+json": {
       "model_id": "8b5b4cd3d4d44672b1e09eabd6c5fd5a",
       "version_major": 2,
       "version_minor": 0
      },
      "text/plain": [
       "Evaluating...:   0%|          | 0/218 [00:00<?, ?it/s]"
      ]
     },
     "metadata": {},
     "output_type": "display_data"
    },
    {
     "name": "stdout",
     "output_type": "stream",
     "text": [
      "Epoch 4/10 => Train Loss: 4.7499, Train Perplexity: 115.5782, Val Loss: 4.7766, Val Perplexity: 118.6981\n"
     ]
    },
    {
     "data": {
      "application/vnd.jupyter.widget-view+json": {
       "model_id": "a77a3e51cce342fc82630535edf9de53",
       "version_major": 2,
       "version_minor": 0
      },
      "text/plain": [
       "Training...:   0%|          | 0/1525 [00:00<?, ?it/s]"
      ]
     },
     "metadata": {},
     "output_type": "display_data"
    },
    {
     "data": {
      "application/vnd.jupyter.widget-view+json": {
       "model_id": "8dd66c087fd94e858c7016c4bbfcf117",
       "version_major": 2,
       "version_minor": 0
      },
      "text/plain": [
       "Evaluating...:   0%|          | 0/218 [00:00<?, ?it/s]"
      ]
     },
     "metadata": {},
     "output_type": "display_data"
    },
    {
     "name": "stdout",
     "output_type": "stream",
     "text": [
      "Epoch 5/10 => Train Loss: 4.6236, Train Perplexity: 101.8556, Val Loss: 4.7069, Val Perplexity: 110.7132\n"
     ]
    },
    {
     "data": {
      "application/vnd.jupyter.widget-view+json": {
       "model_id": "51be8092bdc344e08bc692f326e9c191",
       "version_major": 2,
       "version_minor": 0
      },
      "text/plain": [
       "Training...:   0%|          | 0/1525 [00:00<?, ?it/s]"
      ]
     },
     "metadata": {},
     "output_type": "display_data"
    },
    {
     "data": {
      "application/vnd.jupyter.widget-view+json": {
       "model_id": "4151cd914f364033988672ba85e70cd7",
       "version_major": 2,
       "version_minor": 0
      },
      "text/plain": [
       "Evaluating...:   0%|          | 0/218 [00:00<?, ?it/s]"
      ]
     },
     "metadata": {},
     "output_type": "display_data"
    },
    {
     "name": "stdout",
     "output_type": "stream",
     "text": [
      "Epoch 6/10 => Train Loss: 4.5161, Train Perplexity: 91.4808, Val Loss: 4.6491, Val Perplexity: 104.4948\n"
     ]
    },
    {
     "data": {
      "application/vnd.jupyter.widget-view+json": {
       "model_id": "2abc2a29e71f4be2af3dc82a9900ca3d",
       "version_major": 2,
       "version_minor": 0
      },
      "text/plain": [
       "Training...:   0%|          | 0/1525 [00:00<?, ?it/s]"
      ]
     },
     "metadata": {},
     "output_type": "display_data"
    },
    {
     "data": {
      "application/vnd.jupyter.widget-view+json": {
       "model_id": "ffe7a9794fe3435bbde18573aed19542",
       "version_major": 2,
       "version_minor": 0
      },
      "text/plain": [
       "Evaluating...:   0%|          | 0/218 [00:00<?, ?it/s]"
      ]
     },
     "metadata": {},
     "output_type": "display_data"
    },
    {
     "name": "stdout",
     "output_type": "stream",
     "text": [
      "Epoch 7/10 => Train Loss: 4.4214, Train Perplexity: 83.2159, Val Loss: 4.6122, Val Perplexity: 100.7042\n"
     ]
    },
    {
     "data": {
      "application/vnd.jupyter.widget-view+json": {
       "model_id": "56d5403e263b42ebb8f316d41f16a11c",
       "version_major": 2,
       "version_minor": 0
      },
      "text/plain": [
       "Training...:   0%|          | 0/1525 [00:00<?, ?it/s]"
      ]
     },
     "metadata": {},
     "output_type": "display_data"
    },
    {
     "data": {
      "application/vnd.jupyter.widget-view+json": {
       "model_id": "16e6b3dcebb342c7aaec7259ec376344",
       "version_major": 2,
       "version_minor": 0
      },
      "text/plain": [
       "Evaluating...:   0%|          | 0/218 [00:00<?, ?it/s]"
      ]
     },
     "metadata": {},
     "output_type": "display_data"
    },
    {
     "name": "stdout",
     "output_type": "stream",
     "text": [
      "Epoch 8/10 => Train Loss: 4.3331, Train Perplexity: 76.1804, Val Loss: 4.5800, Val Perplexity: 97.5152\n"
     ]
    },
    {
     "data": {
      "application/vnd.jupyter.widget-view+json": {
       "model_id": "90625497bb8d418d865dc7c2fdc10e47",
       "version_major": 2,
       "version_minor": 0
      },
      "text/plain": [
       "Training...:   0%|          | 0/1525 [00:00<?, ?it/s]"
      ]
     },
     "metadata": {},
     "output_type": "display_data"
    },
    {
     "data": {
      "application/vnd.jupyter.widget-view+json": {
       "model_id": "305239e1230f4f2db63e82bab11ae452",
       "version_major": 2,
       "version_minor": 0
      },
      "text/plain": [
       "Evaluating...:   0%|          | 0/218 [00:00<?, ?it/s]"
      ]
     },
     "metadata": {},
     "output_type": "display_data"
    },
    {
     "name": "stdout",
     "output_type": "stream",
     "text": [
      "Epoch 9/10 => Train Loss: 4.2482, Train Perplexity: 69.9824, Val Loss: 4.5598, Val Perplexity: 95.5641\n"
     ]
    },
    {
     "data": {
      "application/vnd.jupyter.widget-view+json": {
       "model_id": "ba31d1778fb04311b59efe1ace4987f9",
       "version_major": 2,
       "version_minor": 0
      },
      "text/plain": [
       "Training...:   0%|          | 0/1525 [00:00<?, ?it/s]"
      ]
     },
     "metadata": {},
     "output_type": "display_data"
    },
    {
     "data": {
      "application/vnd.jupyter.widget-view+json": {
       "model_id": "483c65961c7549bb9772aa87a0851ced",
       "version_major": 2,
       "version_minor": 0
      },
      "text/plain": [
       "Evaluating...:   0%|          | 0/218 [00:00<?, ?it/s]"
      ]
     },
     "metadata": {},
     "output_type": "display_data"
    },
    {
     "name": "stdout",
     "output_type": "stream",
     "text": [
      "Epoch 10/10 => Train Loss: 4.1690, Train Perplexity: 64.6486, Val Loss: 4.5429, Val Perplexity: 93.9611\n"
     ]
    },
    {
     "data": {
      "application/vnd.jupyter.widget-view+json": {
       "model_id": "f082e28607044862a9f26964277e655a",
       "version_major": 2,
       "version_minor": 0
      },
      "text/plain": [
       "Testing...:   0%|          | 0/436 [00:00<?, ?it/s]"
      ]
     },
     "metadata": {},
     "output_type": "display_data"
    },
    {
     "name": "stdout",
     "output_type": "stream",
     "text": [
      "Test Loss: 4.5373, Test Perplexity: 93.4371\n"
     ]
    }
   ],
   "source": [
    "n_epochs = 10\n",
    "\n",
    "for i in range(n_epochs):\n",
    "    train_loss, train_perplexity = train_one_epoch(\n",
    "        model, train_loader, criterion, optimizer, device)\n",
    "    val_loss, val_perplexity = evaluate(model, val_loader, criterion, device)\n",
    "    print(f'Epoch {i+1}/{n_epochs} => Train Loss: {train_loss:.4f}, Train Perplexity: {train_perplexity:.4f}, Val Loss: {val_loss:.4f}, Val Perplexity: {val_perplexity:.4f}')\n",
    "\n",
    "test_loss, test_perplexity = test(model, test_loader, criterion, device)\n",
    "print(f'Test Loss: {test_loss:.4f}, Test Perplexity: {test_perplexity:.4f}')"
   ]
  },
  {
   "cell_type": "code",
   "execution_count": 11,
   "metadata": {},
   "outputs": [],
   "source": [
    "torch.save(model.state_dict(), 'transformer_model.pth')"
   ]
  },
  {
   "cell_type": "code",
   "execution_count": 12,
   "metadata": {},
   "outputs": [],
   "source": [
    "model = TransformerDecoder(vocab_size, embedding_dim, hidden_dim,\n",
    "                            num_layers, num_heads, dropout, max_seq_len).to(device)\n",
    "model.load_state_dict(torch.load('transformer_model.pth'))\n",
    "criterion = nn.CrossEntropyLoss(ignore_index=padding_value, reduction='sum')\n"
   ]
  },
  {
   "cell_type": "code",
   "execution_count": 13,
   "metadata": {},
   "outputs": [],
   "source": [
    "\n",
    "padding_value = vocabulary.word2index('<PAD>')\n",
    "\n",
    "batch_size = 1\n",
    "\n",
    "train_loader = DataLoader(train_dataset, batch_size=batch_size, shuffle=True,\n",
    "                          collate_fn=lambda batch: collate_fn(batch, padding_value))\n",
    "val_loader = DataLoader(val_dataset, batch_size=batch_size, shuffle=False,\n",
    "                        collate_fn=lambda batch: collate_fn(batch, padding_value))\n",
    "test_loader = DataLoader(test_dataset, batch_size=batch_size, shuffle=False,\n",
    "                         collate_fn=lambda batch: collate_fn(batch, padding_value))"
   ]
  },
  {
   "cell_type": "code",
   "execution_count": 14,
   "metadata": {},
   "outputs": [
    {
     "data": {
      "application/vnd.jupyter.widget-view+json": {
       "model_id": "b8f173b2999b419d9a8f6ee35fb3c48c",
       "version_major": 2,
       "version_minor": 0
      },
      "text/plain": [
       "Writing Perplexities...:   0%|          | 0/24388 [00:00<?, ?it/s]"
      ]
     },
     "metadata": {},
     "output_type": "display_data"
    },
    {
     "data": {
      "application/vnd.jupyter.widget-view+json": {
       "model_id": "bde8f585ba514532b26c7ee4fda0c986",
       "version_major": 2,
       "version_minor": 0
      },
      "text/plain": [
       "Writing Perplexities...:   0%|          | 0/3484 [00:00<?, ?it/s]"
      ]
     },
     "metadata": {},
     "output_type": "display_data"
    },
    {
     "data": {
      "application/vnd.jupyter.widget-view+json": {
       "model_id": "93e0436db4dc48c0aef3e4abebf00c03",
       "version_major": 2,
       "version_minor": 0
      },
      "text/plain": [
       "Writing Perplexities...:   0%|          | 0/6968 [00:00<?, ?it/s]"
      ]
     },
     "metadata": {},
     "output_type": "display_data"
    }
   ],
   "source": [
    "# write perplexities of train, val and test sets to a . The format is sentence : perplexity\n",
    "\n",
    "def write_perplexity_to_file(loader, model, criterion, device, file_path):\n",
    "    with open(file_path, 'w') as f:\n",
    "        for inputs, targets in tqdm(loader, desc='Writing Perplexities...'):\n",
    "            inputs, targets = inputs.to(device), targets.to(device)\n",
    "            output = model(inputs)\n",
    "            loss = criterion(output.view(-1, vocab_size), targets.view(-1))\n",
    "            count = (targets != padding_value).sum().item()\n",
    "            perplexity = calculate_perplexity(loss.item() / count)\n",
    "            sentence = ' '.join([vocabulary.index2word(idx.item()) for idx in inputs[0]])\n",
    "            f.write(f'{sentence} : {perplexity.item()}\\n')\n",
    "\n",
    "write_perplexity_to_file(train_loader, model, criterion, device, 'Lm-3-train.txt')\n",
    "write_perplexity_to_file(val_loader, model, criterion, device, 'Lm-3-val.txt')\n",
    "write_perplexity_to_file(test_loader, model, criterion, device, 'Lm-3-test.txt')"
   ]
  },
  {
   "cell_type": "code",
   "execution_count": null,
   "metadata": {},
   "outputs": [],
   "source": []
  }
 ],
 "metadata": {
  "kernelspec": {
   "display_name": "base",
   "language": "python",
   "name": "python3"
  },
  "language_info": {
   "codemirror_mode": {
    "name": "ipython",
    "version": 3
   },
   "file_extension": ".py",
   "mimetype": "text/x-python",
   "name": "python",
   "nbconvert_exporter": "python",
   "pygments_lexer": "ipython3",
   "version": "3.12.2"
  }
 },
 "nbformat": 4,
 "nbformat_minor": 2
}
